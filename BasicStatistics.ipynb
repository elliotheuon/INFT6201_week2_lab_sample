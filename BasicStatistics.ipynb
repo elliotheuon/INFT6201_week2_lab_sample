{
 "cells": [
  {
   "cell_type": "markdown",
   "metadata": {},
   "source": [
    "# Basic Statistics\n",
    "## Practical Example: Auto.csv"
   ]
  },
  {
   "cell_type": "markdown",
   "metadata": {},
   "source": [
    "### 1. Calculating a mean with Numpy\n",
    "Import pandas and numpy"
   ]
  },
  {
   "cell_type": "code",
   "execution_count": 1,
   "metadata": {},
   "outputs": [],
   "source": [
    "import pandas as pd\n",
    "import numpy as np"
   ]
  },
  {
   "cell_type": "markdown",
   "metadata": {},
   "source": [
    "Load our data using pandas and change origin numbers to category."
   ]
  },
  {
   "cell_type": "code",
   "execution_count": 3,
   "metadata": {},
   "outputs": [],
   "source": [
    "df_auto = pd.read_csv(\"/Users/Elliott/Documents/NewcastleUni/INFT6201/week2/Auto.csv\", na_values='?')\n",
    "df_auto.replace({\"origin\": {1:\"American\", 2:\"European\", 3:\"Japanese\"}}, inplace=True)"
   ]
  },
  {
   "cell_type": "markdown",
   "metadata": {},
   "source": [
    "Calculate the mean weight of all cars in the dataset:"
   ]
  },
  {
   "cell_type": "code",
   "execution_count": 6,
   "metadata": {},
   "outputs": [
    {
     "data": {
      "text/plain": [
       "2970.2619647355164"
      ]
     },
     "execution_count": 6,
     "metadata": {},
     "output_type": "execute_result"
    }
   ],
   "source": [
    "float(np.mean(df_auto[\"weight\"]))"
   ]
  },
  {
   "cell_type": "markdown",
   "metadata": {},
   "source": [
    "Calculate the mean weight of all cars from Europe"
   ]
  },
  {
   "cell_type": "code",
   "execution_count": 7,
   "metadata": {
    "scrolled": true
   },
   "outputs": [
    {
     "data": {
      "text/plain": [
       "2423.3"
      ]
     },
     "execution_count": 7,
     "metadata": {},
     "output_type": "execute_result"
    }
   ],
   "source": [
    "float(np.mean(df_auto[df_auto[\"origin\"]==\"European\"][\"weight\"]))"
   ]
  },
  {
   "cell_type": "markdown",
   "metadata": {},
   "source": [
    "### 2. Calculating a median with Numpy\n",
    "Calculate the median weight of all cars in the dataset"
   ]
  },
  {
   "cell_type": "code",
   "execution_count": 8,
   "metadata": {},
   "outputs": [
    {
     "data": {
      "text/plain": [
       "2800.0"
      ]
     },
     "execution_count": 8,
     "metadata": {},
     "output_type": "execute_result"
    }
   ],
   "source": [
    "float(np.median(df_auto[\"weight\"]))"
   ]
  },
  {
   "cell_type": "markdown",
   "metadata": {},
   "source": [
    "Calculate the median weight of all cars from Japan and America"
   ]
  },
  {
   "cell_type": "code",
   "execution_count": 9,
   "metadata": {},
   "outputs": [],
   "source": [
    "median_weight_jap = np.median(df_auto[df_auto[\"origin\"]==\"Japanese\"][\"weight\"])\n",
    "median_weight_ame = np.median(df_auto[df_auto[\"origin\"]==\"American\"][\"weight\"])"
   ]
  },
  {
   "cell_type": "markdown",
   "metadata": {},
   "source": [
    "Compare the median weights and display the result "
   ]
  },
  {
   "cell_type": "code",
   "execution_count": 10,
   "metadata": {},
   "outputs": [
    {
     "data": {
      "text/plain": [
       "'The median weight of Japanese cars (2155.0) is smaller than the median weight of American cars (3372.5)'"
      ]
     },
     "execution_count": 10,
     "metadata": {},
     "output_type": "execute_result"
    }
   ],
   "source": [
    "if median_weight_jap > median_weight_ame:\n",
    "    comparison = \"larger than\"\n",
    "elif median_weight_jap < median_weight_ame:\n",
    "    comparison = \"smaller than\"\n",
    "else:\n",
    "    comparison = \"equal to\"\n",
    "\"The median weight of Japanese cars ({}) is {} the median weight of American cars ({})\".format(\n",
    "    median_weight_jap, comparison, median_weight_ame)"
   ]
  },
  {
   "cell_type": "markdown",
   "metadata": {},
   "source": [
    "### 3. Calculating quartiles with Numpy\n",
    "Calculate using pandas `describe()` function:"
   ]
  },
  {
   "cell_type": "code",
   "execution_count": 11,
   "metadata": {},
   "outputs": [
    {
     "data": {
      "text/plain": [
       "25%    2223.0\n",
       "50%    2800.0\n",
       "75%    3609.0\n",
       "Name: weight, dtype: float64"
      ]
     },
     "execution_count": 11,
     "metadata": {},
     "output_type": "execute_result"
    }
   ],
   "source": [
    "df_auto[\"weight\"].describe()[4:7]"
   ]
  },
  {
   "cell_type": "markdown",
   "metadata": {},
   "source": [
    "Calculate using numpy and save the results to separate variables:"
   ]
  },
  {
   "cell_type": "code",
   "execution_count": 12,
   "metadata": {},
   "outputs": [],
   "source": [
    "weight_q_25 = np.quantile(df_auto[\"weight\"], q=0.25)\n",
    "weight_q_50 = np.quantile(df_auto[\"weight\"], q=0.50)\n",
    "weight_q_75 = np.quantile(df_auto[\"weight\"], q=0.75)"
   ]
  },
  {
   "cell_type": "markdown",
   "metadata": {},
   "source": [
    "Display a statement with the mean and the interquartile range"
   ]
  },
  {
   "cell_type": "code",
   "execution_count": 13,
   "metadata": {},
   "outputs": [
    {
     "data": {
      "text/plain": [
       "'The median weight of a car (N = 397) is 2800.0 kg. The middle 50% of cars fall between 2223.0 kg and 3609.0 kg.'"
      ]
     },
     "execution_count": 13,
     "metadata": {},
     "output_type": "execute_result"
    }
   ],
   "source": [
    "\"The median weight of a car (N = {}) is {} kg. The middle 50% of cars fall between {} kg and {} kg.\".format(\n",
    "    len(df_auto), weight_q_50, weight_q_25, weight_q_75)"
   ]
  },
  {
   "cell_type": "markdown",
   "metadata": {},
   "source": [
    "### 4. Calculating Variance and Standard Deviation with Numpy\n",
    "Calculate Variance and Standard Deviation for weight of all cars:"
   ]
  },
  {
   "cell_type": "code",
   "execution_count": 14,
   "metadata": {},
   "outputs": [
    {
     "data": {
      "text/plain": [
       "'The standard deviation and variance of the weight for all cars are 846.84 and 717130.46, respectively.'"
      ]
     },
     "execution_count": 14,
     "metadata": {},
     "output_type": "execute_result"
    }
   ],
   "source": [
    "weight_std = np.std(df_auto[\"weight\"])\n",
    "weight_var = np.var(df_auto[\"weight\"])\n",
    "\"The standard deviation and variance of the weight for all cars are {:.2f} and {:.2f}, respectively.\".format(\n",
    "    weight_std, weight_var)"
   ]
  },
  {
   "cell_type": "markdown",
   "metadata": {},
   "source": [
    "Calculate Variance and Standard Deviation for weight of Japanese cars:"
   ]
  },
  {
   "cell_type": "code",
   "execution_count": 15,
   "metadata": {},
   "outputs": [
    {
     "data": {
      "text/plain": [
       "'The standard deviation and variance of the weight for Japanese cars are 318.46 and 101418.25, respectively.'"
      ]
     },
     "execution_count": 15,
     "metadata": {},
     "output_type": "execute_result"
    }
   ],
   "source": [
    "weight_jap_std = np.std(df_auto[df_auto[\"origin\"]==\"Japanese\"][\"weight\"])\n",
    "weight_jap_var = np.var(df_auto[df_auto[\"origin\"]==\"Japanese\"][\"weight\"])\n",
    "\"The standard deviation and variance of the weight for Japanese cars are {:.2f} and {:.2f}, respectively.\".format(\n",
    "    weight_jap_std, weight_jap_var)"
   ]
  },
  {
   "cell_type": "markdown",
   "metadata": {},
   "source": [
    "Calculate Variance and Standard Deviation for weight of European cars:"
   ]
  },
  {
   "cell_type": "code",
   "execution_count": 16,
   "metadata": {},
   "outputs": [
    {
     "data": {
      "text/plain": [
       "'The standard deviation and variance of the weight for European cars are 486.53 and 236711.72, respectively.'"
      ]
     },
     "execution_count": 16,
     "metadata": {},
     "output_type": "execute_result"
    }
   ],
   "source": [
    "weight_eur_std = np.std(df_auto[df_auto[\"origin\"]==\"European\"][\"weight\"])\n",
    "weight_eur_var = np.var(df_auto[df_auto[\"origin\"]==\"European\"][\"weight\"])\n",
    "\"The standard deviation and variance of the weight for European cars are {:.2f} and {:.2f}, respectively.\".format(\n",
    "    weight_eur_std, weight_eur_var)"
   ]
  },
  {
   "cell_type": "markdown",
   "metadata": {},
   "source": [
    "### 5. Calculating Standard Errors with Numpy\n",
    "Create a function to calculate the standard error"
   ]
  },
  {
   "cell_type": "code",
   "execution_count": 17,
   "metadata": {},
   "outputs": [],
   "source": [
    "stderr = lambda x: np.sqrt(np.var(x)/x.shape[0])"
   ]
  },
  {
   "cell_type": "markdown",
   "metadata": {},
   "source": [
    "Calculate the standard error with our new function"
   ]
  },
  {
   "cell_type": "code",
   "execution_count": 19,
   "metadata": {},
   "outputs": [
    {
     "data": {
      "text/plain": [
       "42.5014582752255"
      ]
     },
     "execution_count": 19,
     "metadata": {},
     "output_type": "execute_result"
    }
   ],
   "source": [
    "float(stderr(df_auto[\"weight\"]))"
   ]
  },
  {
   "cell_type": "markdown",
   "metadata": {},
   "source": [
    "Display the 95% confidence interval of the mean"
   ]
  },
  {
   "cell_type": "code",
   "execution_count": 20,
   "metadata": {},
   "outputs": [
    {
     "data": {
      "text/plain": [
       "'Confidence interval for mean weight of cars: 95% CI [2886.96 kg, 3053.56 kg]'"
      ]
     },
     "execution_count": 20,
     "metadata": {},
     "output_type": "execute_result"
    }
   ],
   "source": [
    "\"Confidence interval for mean weight of cars: 95% CI [{:.2f} kg, {:.2f} kg]\".format(\n",
    "    np.mean(df_auto[\"weight\"])-stderr(df_auto[\"weight\"])*1.96,\n",
    "    np.mean(df_auto[\"weight\"])+stderr(df_auto[\"weight\"])*1.96)"
   ]
  }
 ],
 "metadata": {
  "kernelspec": {
   "display_name": "Python 3 (ipykernel)",
   "language": "python",
   "name": "python3"
  },
  "language_info": {
   "codemirror_mode": {
    "name": "ipython",
    "version": 3
   },
   "file_extension": ".py",
   "mimetype": "text/x-python",
   "name": "python",
   "nbconvert_exporter": "python",
   "pygments_lexer": "ipython3",
   "version": "3.12.2"
  }
 },
 "nbformat": 4,
 "nbformat_minor": 4
}
